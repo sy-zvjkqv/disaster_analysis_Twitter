{
 "cells": [
  {
   "cell_type": "code",
   "execution_count": 22,
   "metadata": {},
   "outputs": [],
   "source": [
    "import pandas as pd\n",
    "import numpy as np\n",
    "import tweepy\n",
    "import datetime\n",
    "import pytz\n",
    "import time"
   ]
  },
  {
   "cell_type": "markdown",
   "metadata": {},
   "source": [
    "key is secret"
   ]
  },
  {
   "cell_type": "code",
   "execution_count": 2,
   "metadata": {},
   "outputs": [],
   "source": [
    "# 取得したキーを格納\n",
    "BT = \"AAAAAAAAAAAAAAAAAAAAAEdLhgEAAAAAKyu0W6PIo7Zj%2FNB1BpINf%2Fcm6gE%3DT0EVYBss7PGh2rxZ70CXaOvKMrCifCwfVwsK37dXrcPSA851gg\"\n",
    "CK = \"zScfmXxDONhXg9cIjp2SEk6m6\"\n",
    "CS = \"fuAXsoZjTU5zvE1MkievSa7oITjF414wU6EGQUSgBwuTSfT44h\"\n",
    "AT = \"1557281594955923456-ae2iV205fcP82YzSkCj3T9fPCQEEjh\"\n",
    "AS = \"yOYPCy5G7ty8L6OikJWewpbSdEvGGbl1ETHgrRdw8ffGU\""
   ]
  },
  {
   "cell_type": "code",
   "execution_count": 3,
   "metadata": {},
   "outputs": [],
   "source": [
    "api = tweepy.Client(bearer_token=BT, consumer_key=CK, consumer_secret=CS, access_token=AT, access_token_secret=AS, wait_on_rate_limit=True)"
   ]
  },
  {
   "cell_type": "code",
   "execution_count": 4,
   "metadata": {},
   "outputs": [],
   "source": [
    "def utc2jst(timestamp_utc):\n",
    "    datetime_utc = datetime.datetime.strptime(timestamp_utc + \".000+0000\", \"%Y-%m-%dT%H:%M:%SZ.%f%z\")\n",
    "    datetime_jst = datetime_utc.astimezone(datetime.timezone(datetime.timedelta(hours=+9)))\n",
    "    timestamp_jst = datetime.datetime.strftime(datetime_jst, '%Y-%m-%dT%H:%M:%SZ')\n",
    "    return timestamp_jst\n",
    "\n",
    "def jst2utc(timestamp_jst):\n",
    "    datatime_jst = datetime.datetime.strptime(timestamp_jst + \".000+0000\", \"%Y-%m-%dT%H:%M:%SZ.%f%z\")\n",
    "    datetime_utc = datatime_jst.astimezone(datetime.timezone(datetime.timedelta(hours=-9)))\n",
    "    timestamp_utc = datetime.datetime.strftime(datetime_utc, '%Y-%m-%dT%H:%M:%SZ')\n",
    "    return timestamp_utc"
   ]
  },
  {
   "cell_type": "code",
   "execution_count": 5,
   "metadata": {},
   "outputs": [],
   "source": [
    "search_word = \"雨 OR 強風 OR 台風 OR防風 OR 暴風\"\n",
    "start_time = \"2019-10-05T00:00:00Z\"\n",
    "end_time = \"2019-10-15T23:59:59Z\"\n",
    "item_number = 10\n",
    "tweets = api.search_all_tweets(query=search_word, end_time=jst2utc(end_time), start_time=jst2utc(start_time), max_results=item_number)"
   ]
  },
  {
   "cell_type": "code",
   "execution_count": 27,
   "metadata": {},
   "outputs": [
    {
     "name": "stderr",
     "output_type": "stream",
     "text": [
      "Rate limit exceeded. Sleeping for 568 seconds.\n"
     ]
    },
    {
     "ename": "KeyboardInterrupt",
     "evalue": "",
     "output_type": "error",
     "traceback": [
      "\u001b[0;31m---------------------------------------------------------------------------\u001b[0m",
      "\u001b[0;31mKeyboardInterrupt\u001b[0m                         Traceback (most recent call last)",
      "\u001b[1;32mセル7 を /home/is/shuntaro-o/dev/disaster_analysis_Twitter/notebooks/Twitter_API/collect_same_period_data.ipynb\u001b[0m in \u001b[0;36m<cell line: 2>\u001b[0;34m()\u001b[0m\n\u001b[1;32m      <a href='vscode-notebook-cell://ssh-remote%2Bkogecha/home/is/shuntaro-o/dev/disaster_analysis_Twitter/notebooks/Twitter_API/collect_same_period_data.ipynb#X15sdnNjb2RlLXJlbW90ZQ%3D%3D?line=0'>1</a>\u001b[0m hoax_tweets \u001b[39m=\u001b[39m []\n\u001b[0;32m----> <a href='vscode-notebook-cell://ssh-remote%2Bkogecha/home/is/shuntaro-o/dev/disaster_analysis_Twitter/notebooks/Twitter_API/collect_same_period_data.ipynb#X15sdnNjb2RlLXJlbW90ZQ%3D%3D?line=1'>2</a>\u001b[0m \u001b[39mfor\u001b[39;00m response \u001b[39min\u001b[39;00m tweepy\u001b[39m.\u001b[39mPaginator(api\u001b[39m.\u001b[39msearch_all_tweets,\n\u001b[1;32m      <a href='vscode-notebook-cell://ssh-remote%2Bkogecha/home/is/shuntaro-o/dev/disaster_analysis_Twitter/notebooks/Twitter_API/collect_same_period_data.ipynb#X15sdnNjb2RlLXJlbW90ZQ%3D%3D?line=2'>3</a>\u001b[0m                                  query \u001b[39m=\u001b[39m search_word,\n\u001b[1;32m      <a href='vscode-notebook-cell://ssh-remote%2Bkogecha/home/is/shuntaro-o/dev/disaster_analysis_Twitter/notebooks/Twitter_API/collect_same_period_data.ipynb#X15sdnNjb2RlLXJlbW90ZQ%3D%3D?line=3'>4</a>\u001b[0m                                  user_fields \u001b[39m=\u001b[39m [\u001b[39m'\u001b[39m\u001b[39musername\u001b[39m\u001b[39m'\u001b[39m, \u001b[39m'\u001b[39m\u001b[39mpublic_metrics\u001b[39m\u001b[39m'\u001b[39m, \u001b[39m'\u001b[39m\u001b[39mdescription\u001b[39m\u001b[39m'\u001b[39m, \u001b[39m'\u001b[39m\u001b[39mlocation\u001b[39m\u001b[39m'\u001b[39m],\n\u001b[1;32m      <a href='vscode-notebook-cell://ssh-remote%2Bkogecha/home/is/shuntaro-o/dev/disaster_analysis_Twitter/notebooks/Twitter_API/collect_same_period_data.ipynb#X15sdnNjb2RlLXJlbW90ZQ%3D%3D?line=4'>5</a>\u001b[0m                                  tweet_fields \u001b[39m=\u001b[39m [\u001b[39m'\u001b[39m\u001b[39mcreated_at\u001b[39m\u001b[39m'\u001b[39m, \u001b[39m'\u001b[39m\u001b[39mgeo\u001b[39m\u001b[39m'\u001b[39m, \u001b[39m'\u001b[39m\u001b[39mpublic_metrics\u001b[39m\u001b[39m'\u001b[39m, \u001b[39m'\u001b[39m\u001b[39mtext\u001b[39m\u001b[39m'\u001b[39m],\n\u001b[1;32m      <a href='vscode-notebook-cell://ssh-remote%2Bkogecha/home/is/shuntaro-o/dev/disaster_analysis_Twitter/notebooks/Twitter_API/collect_same_period_data.ipynb#X15sdnNjb2RlLXJlbW90ZQ%3D%3D?line=5'>6</a>\u001b[0m                                  expansions \u001b[39m=\u001b[39m \u001b[39m'\u001b[39m\u001b[39mauthor_id\u001b[39m\u001b[39m'\u001b[39m,\n\u001b[1;32m      <a href='vscode-notebook-cell://ssh-remote%2Bkogecha/home/is/shuntaro-o/dev/disaster_analysis_Twitter/notebooks/Twitter_API/collect_same_period_data.ipynb#X15sdnNjb2RlLXJlbW90ZQ%3D%3D?line=6'>7</a>\u001b[0m                                  end_time\u001b[39m=\u001b[39mjst2utc(end_time),\n\u001b[1;32m      <a href='vscode-notebook-cell://ssh-remote%2Bkogecha/home/is/shuntaro-o/dev/disaster_analysis_Twitter/notebooks/Twitter_API/collect_same_period_data.ipynb#X15sdnNjb2RlLXJlbW90ZQ%3D%3D?line=7'>8</a>\u001b[0m                                  start_time\u001b[39m=\u001b[39mjst2utc(start_time),\n\u001b[1;32m      <a href='vscode-notebook-cell://ssh-remote%2Bkogecha/home/is/shuntaro-o/dev/disaster_analysis_Twitter/notebooks/Twitter_API/collect_same_period_data.ipynb#X15sdnNjb2RlLXJlbW90ZQ%3D%3D?line=8'>9</a>\u001b[0m                                  max_results\u001b[39m=\u001b[39m\u001b[39m10\u001b[39m):\n\u001b[1;32m     <a href='vscode-notebook-cell://ssh-remote%2Bkogecha/home/is/shuntaro-o/dev/disaster_analysis_Twitter/notebooks/Twitter_API/collect_same_period_data.ipynb#X15sdnNjb2RlLXJlbW90ZQ%3D%3D?line=9'>10</a>\u001b[0m     \u001b[39m#time.sleep(1)\u001b[39;00m\n\u001b[1;32m     <a href='vscode-notebook-cell://ssh-remote%2Bkogecha/home/is/shuntaro-o/dev/disaster_analysis_Twitter/notebooks/Twitter_API/collect_same_period_data.ipynb#X15sdnNjb2RlLXJlbW90ZQ%3D%3D?line=10'>11</a>\u001b[0m     hoax_tweets\u001b[39m.\u001b[39mappend(response)\n",
      "File \u001b[0;32m~/miniconda3/envs/Twitter_API/lib/python3.8/site-packages/tweepy/pagination.py:98\u001b[0m, in \u001b[0;36mPaginationIterator.__next__\u001b[0;34m(self)\u001b[0m\n\u001b[1;32m     95\u001b[0m \u001b[39melse\u001b[39;00m:\n\u001b[1;32m     96\u001b[0m     \u001b[39mself\u001b[39m\u001b[39m.\u001b[39mkwargs[\u001b[39m\"\u001b[39m\u001b[39mpagination_token\u001b[39m\u001b[39m\"\u001b[39m] \u001b[39m=\u001b[39m pagination_token\n\u001b[0;32m---> 98\u001b[0m response \u001b[39m=\u001b[39m \u001b[39mself\u001b[39;49m\u001b[39m.\u001b[39;49mmethod(\u001b[39m*\u001b[39;49m\u001b[39mself\u001b[39;49m\u001b[39m.\u001b[39;49margs, \u001b[39m*\u001b[39;49m\u001b[39m*\u001b[39;49m\u001b[39mself\u001b[39;49m\u001b[39m.\u001b[39;49mkwargs)\n\u001b[1;32m    100\u001b[0m \u001b[39mself\u001b[39m\u001b[39m.\u001b[39mprevious_token \u001b[39m=\u001b[39m response\u001b[39m.\u001b[39mmeta\u001b[39m.\u001b[39mget(\u001b[39m\"\u001b[39m\u001b[39mprevious_token\u001b[39m\u001b[39m\"\u001b[39m)\n\u001b[1;32m    101\u001b[0m \u001b[39mself\u001b[39m\u001b[39m.\u001b[39mnext_token \u001b[39m=\u001b[39m response\u001b[39m.\u001b[39mmeta\u001b[39m.\u001b[39mget(\u001b[39m\"\u001b[39m\u001b[39mnext_token\u001b[39m\u001b[39m\"\u001b[39m)\n",
      "File \u001b[0;32m~/miniconda3/envs/Twitter_API/lib/python3.8/site-packages/tweepy/client.py:1145\u001b[0m, in \u001b[0;36mClient.search_all_tweets\u001b[0;34m(self, query, **params)\u001b[0m\n\u001b[1;32m   1053\u001b[0m \u001b[39m\"\"\"search_all_tweets( \\\u001b[39;00m\n\u001b[1;32m   1054\u001b[0m \u001b[39m    query, *, end_time=None, expansions=None, max_results=None, \\\u001b[39;00m\n\u001b[1;32m   1055\u001b[0m \u001b[39m    media_fields=None, next_token=None, place_fields=None, \\\u001b[39;00m\n\u001b[0;32m   (...)\u001b[0m\n\u001b[1;32m   1142\u001b[0m \u001b[39m.. _pagination: https://developer.twitter.com/en/docs/twitter-api/tweets/search/integrate/paginate\u001b[39;00m\n\u001b[1;32m   1143\u001b[0m \u001b[39m\"\"\"\u001b[39;00m\n\u001b[1;32m   1144\u001b[0m params[\u001b[39m\"\u001b[39m\u001b[39mquery\u001b[39m\u001b[39m\"\u001b[39m] \u001b[39m=\u001b[39m query\n\u001b[0;32m-> 1145\u001b[0m \u001b[39mreturn\u001b[39;00m \u001b[39mself\u001b[39;49m\u001b[39m.\u001b[39;49m_make_request(\n\u001b[1;32m   1146\u001b[0m     \u001b[39m\"\u001b[39;49m\u001b[39mGET\u001b[39;49m\u001b[39m\"\u001b[39;49m, \u001b[39m\"\u001b[39;49m\u001b[39m/2/tweets/search/all\u001b[39;49m\u001b[39m\"\u001b[39;49m, params\u001b[39m=\u001b[39;49mparams,\n\u001b[1;32m   1147\u001b[0m     endpoint_parameters\u001b[39m=\u001b[39;49m(\n\u001b[1;32m   1148\u001b[0m         \u001b[39m\"\u001b[39;49m\u001b[39mend_time\u001b[39;49m\u001b[39m\"\u001b[39;49m, \u001b[39m\"\u001b[39;49m\u001b[39mexpansions\u001b[39;49m\u001b[39m\"\u001b[39;49m, \u001b[39m\"\u001b[39;49m\u001b[39mmax_results\u001b[39;49m\u001b[39m\"\u001b[39;49m, \u001b[39m\"\u001b[39;49m\u001b[39mmedia.fields\u001b[39;49m\u001b[39m\"\u001b[39;49m,\n\u001b[1;32m   1149\u001b[0m         \u001b[39m\"\u001b[39;49m\u001b[39mnext_token\u001b[39;49m\u001b[39m\"\u001b[39;49m, \u001b[39m\"\u001b[39;49m\u001b[39mplace.fields\u001b[39;49m\u001b[39m\"\u001b[39;49m, \u001b[39m\"\u001b[39;49m\u001b[39mpoll.fields\u001b[39;49m\u001b[39m\"\u001b[39;49m, \u001b[39m\"\u001b[39;49m\u001b[39mquery\u001b[39;49m\u001b[39m\"\u001b[39;49m,\n\u001b[1;32m   1150\u001b[0m         \u001b[39m\"\u001b[39;49m\u001b[39msince_id\u001b[39;49m\u001b[39m\"\u001b[39;49m, \u001b[39m\"\u001b[39;49m\u001b[39msort_order\u001b[39;49m\u001b[39m\"\u001b[39;49m, \u001b[39m\"\u001b[39;49m\u001b[39mstart_time\u001b[39;49m\u001b[39m\"\u001b[39;49m, \u001b[39m\"\u001b[39;49m\u001b[39mtweet.fields\u001b[39;49m\u001b[39m\"\u001b[39;49m,\n\u001b[1;32m   1151\u001b[0m         \u001b[39m\"\u001b[39;49m\u001b[39muntil_id\u001b[39;49m\u001b[39m\"\u001b[39;49m, \u001b[39m\"\u001b[39;49m\u001b[39muser.fields\u001b[39;49m\u001b[39m\"\u001b[39;49m\n\u001b[1;32m   1152\u001b[0m     ), data_type\u001b[39m=\u001b[39;49mTweet\n\u001b[1;32m   1153\u001b[0m )\n",
      "File \u001b[0;32m~/miniconda3/envs/Twitter_API/lib/python3.8/site-packages/tweepy/client.py:126\u001b[0m, in \u001b[0;36mBaseClient._make_request\u001b[0;34m(self, method, route, params, endpoint_parameters, json, data_type, user_auth)\u001b[0m\n\u001b[1;32m    122\u001b[0m \u001b[39mdef\u001b[39;00m \u001b[39m_make_request\u001b[39m(\u001b[39mself\u001b[39m, method, route, params\u001b[39m=\u001b[39m{}, endpoint_parameters\u001b[39m=\u001b[39m\u001b[39mNone\u001b[39;00m,\n\u001b[1;32m    123\u001b[0m                   json\u001b[39m=\u001b[39m\u001b[39mNone\u001b[39;00m, data_type\u001b[39m=\u001b[39m\u001b[39mNone\u001b[39;00m, user_auth\u001b[39m=\u001b[39m\u001b[39mFalse\u001b[39;00m):\n\u001b[1;32m    124\u001b[0m     request_params \u001b[39m=\u001b[39m \u001b[39mself\u001b[39m\u001b[39m.\u001b[39m_process_params(params, endpoint_parameters)\n\u001b[0;32m--> 126\u001b[0m     response \u001b[39m=\u001b[39m \u001b[39mself\u001b[39;49m\u001b[39m.\u001b[39;49mrequest(method, route, params\u001b[39m=\u001b[39;49mrequest_params,\n\u001b[1;32m    127\u001b[0m                             json\u001b[39m=\u001b[39;49mjson, user_auth\u001b[39m=\u001b[39;49muser_auth)\n\u001b[1;32m    129\u001b[0m     \u001b[39mif\u001b[39;00m \u001b[39mself\u001b[39m\u001b[39m.\u001b[39mreturn_type \u001b[39mis\u001b[39;00m requests\u001b[39m.\u001b[39mResponse:\n\u001b[1;32m    130\u001b[0m         \u001b[39mreturn\u001b[39;00m response\n",
      "File \u001b[0;32m~/miniconda3/envs/Twitter_API/lib/python3.8/site-packages/tweepy/client.py:111\u001b[0m, in \u001b[0;36mBaseClient.request\u001b[0;34m(self, method, route, params, json, user_auth)\u001b[0m\n\u001b[1;32m    106\u001b[0m     \u001b[39mif\u001b[39;00m sleep_time \u001b[39m>\u001b[39m \u001b[39m0\u001b[39m:\n\u001b[1;32m    107\u001b[0m         log\u001b[39m.\u001b[39mwarning(\n\u001b[1;32m    108\u001b[0m             \u001b[39m\"\u001b[39m\u001b[39mRate limit exceeded. \u001b[39m\u001b[39m\"\u001b[39m\n\u001b[1;32m    109\u001b[0m             \u001b[39mf\u001b[39m\u001b[39m\"\u001b[39m\u001b[39mSleeping for \u001b[39m\u001b[39m{\u001b[39;00msleep_time\u001b[39m}\u001b[39;00m\u001b[39m seconds.\u001b[39m\u001b[39m\"\u001b[39m\n\u001b[1;32m    110\u001b[0m         )\n\u001b[0;32m--> 111\u001b[0m         time\u001b[39m.\u001b[39;49msleep(sleep_time)\n\u001b[1;32m    112\u001b[0m     \u001b[39mreturn\u001b[39;00m \u001b[39mself\u001b[39m\u001b[39m.\u001b[39mrequest(method, route, params, json, user_auth)\n\u001b[1;32m    113\u001b[0m \u001b[39melse\u001b[39;00m:\n",
      "\u001b[0;31mKeyboardInterrupt\u001b[0m: "
     ]
    }
   ],
   "source": [
    "hoax_tweets = []\n",
    "for response in tweepy.Paginator(api.search_all_tweets,\n",
    "                                 query = search_word,\n",
    "                                 user_fields = ['username', 'public_metrics', 'description', 'location'],\n",
    "                                 tweet_fields = ['created_at', 'geo', 'public_metrics', 'text'],\n",
    "                                 expansions = 'author_id',\n",
    "                                 end_time=jst2utc(end_time),\n",
    "                                 start_time=jst2utc(start_time),\n",
    "                                 max_results=10):\n",
    "    #time.sleep(1)\n",
    "    hoax_tweets.append(response)"
   ]
  },
  {
   "cell_type": "code",
   "execution_count": null,
   "metadata": {},
   "outputs": [],
   "source": [
    "result = []\n",
    "user_dict = {}\n",
    "# Loop through each response object\n",
    "for response in hoax_tweets:\n",
    "    # Take all of the users, and put them into a dictionary of dictionaries with the info we want to keep\n",
    "    for user in response.includes['users']:\n",
    "        user_dict[user.id] = {'username': user.username, \n",
    "                              'followers': user.public_metrics['followers_count'],\n",
    "                              'tweets': user.public_metrics['tweet_count'],\n",
    "                              'description': user.description,\n",
    "                              'location': user.location\n",
    "                             }\n",
    "    for tweet in response.data:\n",
    "        # For each tweet, find the author's information\n",
    "        author_info = user_dict[tweet.author_id]\n",
    "        # Put all of the information we want to keep in a single dictionary for each tweet\n",
    "        result.append({'author_id': tweet.author_id, \n",
    "                       'username': author_info['username'],\n",
    "                       'author_followers': author_info['followers'],\n",
    "                       'author_tweets': author_info['tweets'],\n",
    "                       'author_description': author_info['description'],\n",
    "                       'author_location': author_info['location'],\n",
    "                       'text': tweet.text,\n",
    "                       'created_at': tweet.created_at,\n",
    "                       'retweets': tweet.public_metrics['retweet_count'],\n",
    "                       'replies': tweet.public_metrics['reply_count'],\n",
    "                       'likes': tweet.public_metrics['like_count'],\n",
    "                       'quote_count': tweet.public_metrics['quote_count']\n",
    "                      })\n",
    "\n",
    "# Change this list of dictionaries into a dataframe\n",
    "df = pd.DataFrame(result)"
   ]
  }
 ],
 "metadata": {
  "kernelspec": {
   "display_name": "Python 3.8.13 ('Twitter_API': conda)",
   "language": "python",
   "name": "python3"
  },
  "language_info": {
   "codemirror_mode": {
    "name": "ipython",
    "version": 3
   },
   "file_extension": ".py",
   "mimetype": "text/x-python",
   "name": "python",
   "nbconvert_exporter": "python",
   "pygments_lexer": "ipython3",
   "version": "3.8.13"
  },
  "orig_nbformat": 4,
  "vscode": {
   "interpreter": {
    "hash": "22824e764042952606e434661076d164d8ff7b15f4185d39b8b3d223d352ec2e"
   }
  }
 },
 "nbformat": 4,
 "nbformat_minor": 2
}
