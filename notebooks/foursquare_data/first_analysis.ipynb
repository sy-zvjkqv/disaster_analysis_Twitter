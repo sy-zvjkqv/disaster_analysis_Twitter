{
 "cells": [
  {
   "cell_type": "code",
   "execution_count": null,
   "metadata": {},
   "outputs": [],
   "source": [
    "import pandas as pd\n",
    "import folium\n",
    "from folium.plugins import MarkerCluster"
   ]
  },
  {
   "cell_type": "code",
   "execution_count": null,
   "metadata": {},
   "outputs": [],
   "source": [
    "Tweets_df = pd.read_csv('/home/is/shuntaro-o/dev/disaster_analysis_Twitter/data/Foursquare_Osaka/merged_Tweet_place.csv')"
   ]
  },
  {
   "cell_type": "code",
   "execution_count": null,
   "metadata": {},
   "outputs": [],
   "source": [
    "user_name_list = Tweets_df['user_name'].unique()"
   ]
  },
  {
   "cell_type": "code",
   "execution_count": null,
   "metadata": {},
   "outputs": [],
   "source": [
    "user_sequence = Tweets_df[Tweets_df['user_name']==user_name_list[10]]\n",
    "locs_sequence = []\n",
    "for index, r in user_sequence.iterrows():\n",
    "    locs_sequence.append([r.UserPlase_latitude,r.UserPlase_longitude])\n",
    "\n",
    "m = folium.Map(location=[35.6, 139.7], zoom_start=7.0)\n",
    "folium.PolyLine(locations=locs_sequence).add_to(m)\n",
    "folium.Marker(locs_sequence[0], popup='end').add_to(m)\n",
    "folium.Marker(locs_sequence[-1], popup='start', icon=folium.Icon(color='red')).add_to(m)\n",
    "m"
   ]
  },
  {
   "cell_type": "code",
   "execution_count": null,
   "metadata": {},
   "outputs": [],
   "source": [
    "user_sequence = Tweets_df[Tweets_df['user_name']==user_name_list[100]]\n",
    "locs_sequence = []\n",
    "for index, r in user_sequence.iterrows():\n",
    "    locs_sequence.append([r.UserPlase_latitude,r.UserPlase_longitude])\n",
    "\n",
    "\n",
    "m = folium.Map(location=[35.6, 139.7], zoom_start=7.0)\n",
    "marker_cluster = MarkerCluster().add_to(m)\n",
    "for i in range(0,len(locs_sequence)):\n",
    "    folium.Marker(locs_sequence[i], popup=r.text).add_to(marker_cluster)\n",
    "m"
   ]
  },
  {
   "cell_type": "code",
   "execution_count": null,
   "metadata": {},
   "outputs": [],
   "source": [
    "user_sequence"
   ]
  }
 ],
 "metadata": {
  "kernelspec": {
   "display_name": "Python 3.8.13 ('SharedTask')",
   "language": "python",
   "name": "python3"
  },
  "language_info": {
   "codemirror_mode": {
    "name": "ipython",
    "version": 3
   },
   "file_extension": ".py",
   "mimetype": "text/x-python",
   "name": "python",
   "nbconvert_exporter": "python",
   "pygments_lexer": "ipython3",
   "version": "3.8.13"
  },
  "orig_nbformat": 4,
  "vscode": {
   "interpreter": {
    "hash": "6feaf4af813783365efc585a6800850988678764fcb0bba12eca45fe4d31fdb0"
   }
  }
 },
 "nbformat": 4,
 "nbformat_minor": 2
}
