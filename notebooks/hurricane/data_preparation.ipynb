{
 "cells": [
  {
   "cell_type": "code",
   "execution_count": 1,
   "metadata": {},
   "outputs": [],
   "source": [
    "import pandas as pd"
   ]
  },
  {
   "cell_type": "code",
   "execution_count": 2,
   "metadata": {},
   "outputs": [
    {
     "name": "stderr",
     "output_type": "stream",
     "text": [
      "/tmp/ipykernel_46694/2199412338.py:1: DtypeWarning: Columns (0,1,2,3,4,6,7) have mixed types. Specify dtype option on import or set low_memory=False.\n",
      "  hurricane_tweet = pd.read_csv(\"/home/is/shuntaro-o/dev/disaster_analysis_Twitter/data/Hurricane/Japan_2019Hurricane.csv\")\n"
     ]
    }
   ],
   "source": [
    "hurricane_tweet = pd.read_csv(\"/home/is/shuntaro-o/dev/disaster_analysis_Twitter/data/Hurricane/Japan_2019Hurricane.csv\")"
   ]
  },
  {
   "cell_type": "code",
   "execution_count": 3,
   "metadata": {},
   "outputs": [],
   "source": [
    "UserPlase = pd.read_csv('/home/is/shuntaro-o/dev/disaster_analysis_Twitter/data/Foursquare_Osaka/FoursquareUserPlacesOsaka_20210511.txt', sep=',', lineterminator='\\n', header=None,names = ['place_id', 'city_name', 'object', 'country', 'UserPlase_longitude', 'UserPlase_latitude', 'UserPlase_sub_longitude', 'UserPlase_sub_latitude'])"
   ]
  },
  {
   "cell_type": "code",
   "execution_count": 4,
   "metadata": {},
   "outputs": [],
   "source": [
    "UserPlase =UserPlase[~UserPlase.duplicated()]"
   ]
  },
  {
   "cell_type": "code",
   "execution_count": 5,
   "metadata": {},
   "outputs": [],
   "source": [
    "hurricane_tweet = hurricane_tweet.rename(columns={'PlaceID':'place_id'})"
   ]
  },
  {
   "cell_type": "code",
   "execution_count": 6,
   "metadata": {},
   "outputs": [],
   "source": [
    "merged_Tweet_place = pd.merge(hurricane_tweet , UserPlase, how='left', on = \"place_id\")"
   ]
  },
  {
   "cell_type": "code",
   "execution_count": 7,
   "metadata": {},
   "outputs": [],
   "source": [
    "def UTM_cal(lat,lon):\n",
    "    p,a=divmod(lat*60,40)\n",
    "    q,b=divmod(a,5)\n",
    "    r,c=divmod(b*60,30)\n",
    "    s,d=divmod(c,15)\n",
    "    t,e=divmod(d,7.5)\n",
    "\n",
    "    u=str(lon-100)[0:2]\n",
    "    f=lon-int(u)-100\n",
    "    v,g=divmod(f*60,7.5)\n",
    "    w,h=divmod(g*60,45)\n",
    "    x,i=divmod(h,22.5)\n",
    "    y,j=divmod(i,11.25)\n",
    "\n",
    "    m=(s*2)+(x+1)\n",
    "    n=(t*2)+(y+1)\n",
    "    p=int(p)\n",
    "    u=int(u)\n",
    "    q=int(q)\n",
    "    v=int(v)\n",
    "    r=int(r)\n",
    "    w=int(w)\n",
    "    m=int(m)\n",
    "    n=int(n)\n",
    "\n",
    "    ans=str(p)+str(u)\n",
    "    ans=int(ans)\n",
    "    return(ans)"
   ]
  },
  {
   "cell_type": "code",
   "execution_count": 18,
   "metadata": {},
   "outputs": [],
   "source": [
    "merged_Tweet_place = merged_Tweet_place.dropna(subset=['UserPlase_longitude','UserPlase_latitude'])"
   ]
  },
  {
   "cell_type": "code",
   "execution_count": 19,
   "metadata": {},
   "outputs": [],
   "source": [
    "merged_Tweet_place = merged_Tweet_place.reset_index(drop=True)"
   ]
  },
  {
   "cell_type": "code",
   "execution_count": 20,
   "metadata": {},
   "outputs": [],
   "source": [
    "code_list=[]\n",
    "for index, r in merged_Tweet_place.iterrows():\n",
    "    ans=UTM_cal(r.UserPlase_latitude,r.UserPlase_longitude)\n",
    "    code_list.append(ans)"
   ]
  },
  {
   "cell_type": "code",
   "execution_count": 22,
   "metadata": {},
   "outputs": [],
   "source": [
    "code_list=pd.Series(code_list)\n",
    "merged_Tweet_place=pd.concat([merged_Tweet_place,code_list],axis=1)\n",
    "merged_Tweet_place=merged_Tweet_place.rename(columns={0: 'code'})"
   ]
  },
  {
   "cell_type": "code",
   "execution_count": 26,
   "metadata": {},
   "outputs": [],
   "source": [
    "merged_Tweet_place.to_csv(\"/home/is/shuntaro-o/dev/disaster_analysis_Twitter/data/Hurricane/merged_data.csv\",  index=False)"
   ]
  }
 ],
 "metadata": {
  "kernelspec": {
   "display_name": "Python 3.8.13 ('SharedTask')",
   "language": "python",
   "name": "python3"
  },
  "language_info": {
   "codemirror_mode": {
    "name": "ipython",
    "version": 3
   },
   "file_extension": ".py",
   "mimetype": "text/x-python",
   "name": "python",
   "nbconvert_exporter": "python",
   "pygments_lexer": "ipython3",
   "version": "3.8.13"
  },
  "orig_nbformat": 4,
  "vscode": {
   "interpreter": {
    "hash": "6feaf4af813783365efc585a6800850988678764fcb0bba12eca45fe4d31fdb0"
   }
  }
 },
 "nbformat": 4,
 "nbformat_minor": 2
}
