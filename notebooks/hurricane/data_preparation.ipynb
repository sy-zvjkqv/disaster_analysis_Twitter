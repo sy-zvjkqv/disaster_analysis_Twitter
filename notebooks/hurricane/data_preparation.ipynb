{
 "cells": [
  {
   "cell_type": "code",
   "execution_count": 1,
   "metadata": {},
   "outputs": [],
   "source": [
    "import pandas as pd"
   ]
  },
  {
   "cell_type": "code",
   "execution_count": 2,
   "metadata": {},
   "outputs": [
    {
     "name": "stderr",
     "output_type": "stream",
     "text": [
      "/tmp/ipykernel_42443/2199412338.py:1: DtypeWarning: Columns (0,1,2,3,4,6,7) have mixed types. Specify dtype option on import or set low_memory=False.\n",
      "  hurricane_tweet = pd.read_csv(\"/home/is/shuntaro-o/dev/disaster_analysis_Twitter/data/Hurricane/Japan_2019Hurricane.csv\")\n"
     ]
    }
   ],
   "source": [
    "hurricane_tweet = pd.read_csv(\"/home/is/shuntaro-o/dev/disaster_analysis_Twitter/data/Hurricane/Japan_2019Hurricane.csv\")"
   ]
  },
  {
   "cell_type": "code",
   "execution_count": 3,
   "metadata": {},
   "outputs": [],
   "source": [
    "UserPlase = pd.read_csv('/home/is/shuntaro-o/dev/disaster_analysis_Twitter/data/Foursquare_Osaka/FoursquareUserPlacesOsaka_20210511.txt', sep=',', lineterminator='\\n', header=None,names = ['place_id', 'city_name', 'object', 'country', 'UserPlase_longitude', 'UserPlase_latitude', 'UserPlase_sub_longitude', 'UserPlase_sub_latitude'])"
   ]
  },
  {
   "cell_type": "code",
   "execution_count": 4,
   "metadata": {},
   "outputs": [
    {
     "data": {
      "text/html": [
       "<div>\n",
       "<style scoped>\n",
       "    .dataframe tbody tr th:only-of-type {\n",
       "        vertical-align: middle;\n",
       "    }\n",
       "\n",
       "    .dataframe tbody tr th {\n",
       "        vertical-align: top;\n",
       "    }\n",
       "\n",
       "    .dataframe thead th {\n",
       "        text-align: right;\n",
       "    }\n",
       "</style>\n",
       "<table border=\"1\" class=\"dataframe\">\n",
       "  <thead>\n",
       "    <tr style=\"text-align: right;\">\n",
       "      <th></th>\n",
       "      <th>place_id</th>\n",
       "      <th>city_name</th>\n",
       "      <th>object</th>\n",
       "      <th>country</th>\n",
       "      <th>UserPlase_longitude</th>\n",
       "      <th>UserPlase_latitude</th>\n",
       "      <th>UserPlase_sub_longitude</th>\n",
       "      <th>UserPlase_sub_latitude</th>\n",
       "    </tr>\n",
       "  </thead>\n",
       "  <tbody>\n",
       "    <tr>\n",
       "      <th>0</th>\n",
       "      <td>2e0214bf8fffce3e</td>\n",
       "      <td>岡山 北区</td>\n",
       "      <td>city</td>\n",
       "      <td>日本</td>\n",
       "      <td>133.739451</td>\n",
       "      <td>34.618703</td>\n",
       "      <td>133.994635</td>\n",
       "      <td>34.948925</td>\n",
       "    </tr>\n",
       "    <tr>\n",
       "      <th>1</th>\n",
       "      <td>588c2314670a7136</td>\n",
       "      <td>愛媛 今治市</td>\n",
       "      <td>city</td>\n",
       "      <td>日本</td>\n",
       "      <td>132.808019</td>\n",
       "      <td>33.901953</td>\n",
       "      <td>133.191454</td>\n",
       "      <td>34.299790</td>\n",
       "    </tr>\n",
       "    <tr>\n",
       "      <th>2</th>\n",
       "      <td>658025f3b87efc97</td>\n",
       "      <td>広島 福山市</td>\n",
       "      <td>city</td>\n",
       "      <td>日本</td>\n",
       "      <td>133.210533</td>\n",
       "      <td>34.332373</td>\n",
       "      <td>133.456436</td>\n",
       "      <td>34.712255</td>\n",
       "    </tr>\n",
       "    <tr>\n",
       "      <th>3</th>\n",
       "      <td>87f7bd2fc4bf1d36</td>\n",
       "      <td>広島 東広島市</td>\n",
       "      <td>city</td>\n",
       "      <td>日本</td>\n",
       "      <td>132.600485</td>\n",
       "      <td>34.263665</td>\n",
       "      <td>132.920910</td>\n",
       "      <td>34.623801</td>\n",
       "    </tr>\n",
       "    <tr>\n",
       "      <th>4</th>\n",
       "      <td>8fb5fa5f07eb0141</td>\n",
       "      <td>広島 三原市</td>\n",
       "      <td>city</td>\n",
       "      <td>日本</td>\n",
       "      <td>132.847499</td>\n",
       "      <td>34.317110</td>\n",
       "      <td>133.162754</td>\n",
       "      <td>34.593661</td>\n",
       "    </tr>\n",
       "    <tr>\n",
       "      <th>...</th>\n",
       "      <td>...</td>\n",
       "      <td>...</td>\n",
       "      <td>...</td>\n",
       "      <td>...</td>\n",
       "      <td>...</td>\n",
       "      <td>...</td>\n",
       "      <td>...</td>\n",
       "      <td>...</td>\n",
       "    </tr>\n",
       "    <tr>\n",
       "      <th>688015</th>\n",
       "      <td>4f114c4fd23ca323</td>\n",
       "      <td>香川 琴平町</td>\n",
       "      <td>city</td>\n",
       "      <td>日本</td>\n",
       "      <td>133.799781</td>\n",
       "      <td>34.174743</td>\n",
       "      <td>133.836112</td>\n",
       "      <td>34.222786</td>\n",
       "    </tr>\n",
       "    <tr>\n",
       "      <th>688016</th>\n",
       "      <td>987dcf109497521b</td>\n",
       "      <td>高知 高知市</td>\n",
       "      <td>city</td>\n",
       "      <td>日本</td>\n",
       "      <td>133.394215</td>\n",
       "      <td>33.459289</td>\n",
       "      <td>133.625495</td>\n",
       "      <td>33.681402</td>\n",
       "    </tr>\n",
       "    <tr>\n",
       "      <th>688017</th>\n",
       "      <td>b74dabb385d367f6</td>\n",
       "      <td>高知 南国市</td>\n",
       "      <td>city</td>\n",
       "      <td>日本</td>\n",
       "      <td>133.559811</td>\n",
       "      <td>33.519401</td>\n",
       "      <td>133.684936</td>\n",
       "      <td>33.706261</td>\n",
       "    </tr>\n",
       "    <tr>\n",
       "      <th>688018</th>\n",
       "      <td>6597a3a04e11fb7d</td>\n",
       "      <td>大阪 田尻町</td>\n",
       "      <td>city</td>\n",
       "      <td>日本</td>\n",
       "      <td>135.218512</td>\n",
       "      <td>34.383275</td>\n",
       "      <td>135.300372</td>\n",
       "      <td>34.446086</td>\n",
       "    </tr>\n",
       "    <tr>\n",
       "      <th>688019</th>\n",
       "      <td>b637b5cf28656648</td>\n",
       "      <td>広島 広島市 南区</td>\n",
       "      <td>city</td>\n",
       "      <td>日本</td>\n",
       "      <td>132.414170</td>\n",
       "      <td>34.296444</td>\n",
       "      <td>132.561093</td>\n",
       "      <td>34.406427</td>\n",
       "    </tr>\n",
       "  </tbody>\n",
       "</table>\n",
       "<p>688020 rows × 8 columns</p>\n",
       "</div>"
      ],
      "text/plain": [
       "                place_id  city_name object country  UserPlase_longitude  \\\n",
       "0       2e0214bf8fffce3e      岡山 北区   city      日本           133.739451   \n",
       "1       588c2314670a7136     愛媛 今治市   city      日本           132.808019   \n",
       "2       658025f3b87efc97     広島 福山市   city      日本           133.210533   \n",
       "3       87f7bd2fc4bf1d36    広島 東広島市   city      日本           132.600485   \n",
       "4       8fb5fa5f07eb0141     広島 三原市   city      日本           132.847499   \n",
       "...                  ...        ...    ...     ...                  ...   \n",
       "688015  4f114c4fd23ca323     香川 琴平町   city      日本           133.799781   \n",
       "688016  987dcf109497521b     高知 高知市   city      日本           133.394215   \n",
       "688017  b74dabb385d367f6     高知 南国市   city      日本           133.559811   \n",
       "688018  6597a3a04e11fb7d     大阪 田尻町   city      日本           135.218512   \n",
       "688019  b637b5cf28656648  広島 広島市 南区   city      日本           132.414170   \n",
       "\n",
       "        UserPlase_latitude  UserPlase_sub_longitude  UserPlase_sub_latitude  \n",
       "0                34.618703               133.994635               34.948925  \n",
       "1                33.901953               133.191454               34.299790  \n",
       "2                34.332373               133.456436               34.712255  \n",
       "3                34.263665               132.920910               34.623801  \n",
       "4                34.317110               133.162754               34.593661  \n",
       "...                    ...                      ...                     ...  \n",
       "688015           34.174743               133.836112               34.222786  \n",
       "688016           33.459289               133.625495               33.681402  \n",
       "688017           33.519401               133.684936               33.706261  \n",
       "688018           34.383275               135.300372               34.446086  \n",
       "688019           34.296444               132.561093               34.406427  \n",
       "\n",
       "[688020 rows x 8 columns]"
      ]
     },
     "execution_count": 4,
     "metadata": {},
     "output_type": "execute_result"
    }
   ],
   "source": [
    "UserPlase"
   ]
  },
  {
   "cell_type": "code",
   "execution_count": 4,
   "metadata": {},
   "outputs": [],
   "source": [
    "UserPlase =UserPlase[~UserPlase.duplicated()]"
   ]
  },
  {
   "cell_type": "code",
   "execution_count": 5,
   "metadata": {},
   "outputs": [],
   "source": [
    "hurricane_tweet = hurricane_tweet.rename(columns={'PlaceID':'place_id'})"
   ]
  },
  {
   "cell_type": "code",
   "execution_count": 6,
   "metadata": {},
   "outputs": [],
   "source": [
    "merged_Tweet_place = pd.merge(hurricane_tweet , UserPlase, how='inner', on = \"place_id\")"
   ]
  },
  {
   "cell_type": "code",
   "execution_count": 7,
   "metadata": {},
   "outputs": [],
   "source": [
    "def UTM_cal(lat,lon):\n",
    "    p,a=divmod(lat*60,40)\n",
    "    q,b=divmod(a,5)\n",
    "    r,c=divmod(b*60,30)\n",
    "    s,d=divmod(c,15)\n",
    "    t,e=divmod(d,7.5)\n",
    "\n",
    "    u=str(lon-100)[0:2]\n",
    "    f=lon-int(u)-100\n",
    "    v,g=divmod(f*60,7.5)\n",
    "    w,h=divmod(g*60,45)\n",
    "    x,i=divmod(h,22.5)\n",
    "    y,j=divmod(i,11.25)\n",
    "\n",
    "    m=(s*2)+(x+1)\n",
    "    n=(t*2)+(y+1)\n",
    "    p=int(p)\n",
    "    u=int(u)\n",
    "    q=int(q)\n",
    "    v=int(v)\n",
    "    r=int(r)\n",
    "    w=int(w)\n",
    "    m=int(m)\n",
    "    n=int(n)\n",
    "\n",
    "    ans=str(p)+str(u)\n",
    "    ans=int(ans)\n",
    "    return(ans)"
   ]
  },
  {
   "cell_type": "code",
   "execution_count": 8,
   "metadata": {},
   "outputs": [],
   "source": [
    "merged_Tweet_place = merged_Tweet_place.dropna(subset=['UserPlase_longitude','UserPlase_latitude'])"
   ]
  },
  {
   "cell_type": "code",
   "execution_count": 9,
   "metadata": {},
   "outputs": [],
   "source": [
    "merged_Tweet_place = merged_Tweet_place.reset_index(drop=True)"
   ]
  },
  {
   "cell_type": "code",
   "execution_count": 10,
   "metadata": {},
   "outputs": [],
   "source": [
    "code_list=[]\n",
    "for index, r in merged_Tweet_place.iterrows():\n",
    "    ans=UTM_cal(r.UserPlase_latitude,r.UserPlase_longitude)\n",
    "    code_list.append(ans)"
   ]
  },
  {
   "cell_type": "code",
   "execution_count": 11,
   "metadata": {},
   "outputs": [],
   "source": [
    "code_list=pd.Series(code_list)\n",
    "merged_Tweet_place=pd.concat([merged_Tweet_place,code_list],axis=1)\n",
    "merged_Tweet_place=merged_Tweet_place.rename(columns={0: 'code'})"
   ]
  },
  {
   "cell_type": "code",
   "execution_count": 12,
   "metadata": {},
   "outputs": [],
   "source": [
    "merged_Tweet_place = merged_Tweet_place.dropna(subset=['UserPlase_longitude','UserPlase_longitude'])"
   ]
  },
  {
   "cell_type": "code",
   "execution_count": 1,
   "metadata": {},
   "outputs": [
    {
     "ename": "NameError",
     "evalue": "name 'merged_Tweet_place' is not defined",
     "output_type": "error",
     "traceback": [
      "\u001b[0;31m---------------------------------------------------------------------------\u001b[0m",
      "\u001b[0;31mNameError\u001b[0m                                 Traceback (most recent call last)",
      "\u001b[1;32mセル13 を /home/is/shuntaro-o/dev/disaster_analysis_Twitter/notebooks/hurricane/data_preparation.ipynb\u001b[0m in \u001b[0;36m<cell line: 1>\u001b[0;34m()\u001b[0m\n\u001b[0;32m----> <a href='vscode-notebook-cell://ssh-remote%2Bkogecha/home/is/shuntaro-o/dev/disaster_analysis_Twitter/notebooks/hurricane/data_preparation.ipynb#X15sdnNjb2RlLXJlbW90ZQ%3D%3D?line=0'>1</a>\u001b[0m merged_Tweet_place \u001b[39m=\u001b[39m merged_Tweet_place\u001b[39m.\u001b[39mreset_index(drop\u001b[39m=\u001b[39m\u001b[39mTrue\u001b[39;00m)\n",
      "\u001b[0;31mNameError\u001b[0m: name 'merged_Tweet_place' is not defined"
     ]
    }
   ],
   "source": [
    "merged_Tweet_place = merged_Tweet_place.reset_index(drop=True)"
   ]
  },
  {
   "cell_type": "code",
   "execution_count": 15,
   "metadata": {},
   "outputs": [],
   "source": [
    "merged_Tweet_place.to_csv(\"/home/is/shuntaro-o/dev/disaster_analysis_Twitter/data/Hurricane/merged_data.csv\",  index=False)"
   ]
  }
 ],
 "metadata": {
  "kernelspec": {
   "display_name": "Python 3.8.13 ('SharedTask')",
   "language": "python",
   "name": "python3"
  },
  "language_info": {
   "codemirror_mode": {
    "name": "ipython",
    "version": 3
   },
   "file_extension": ".py",
   "mimetype": "text/x-python",
   "name": "python",
   "nbconvert_exporter": "python",
   "pygments_lexer": "ipython3",
   "version": "3.8.13"
  },
  "orig_nbformat": 4,
  "vscode": {
   "interpreter": {
    "hash": "6feaf4af813783365efc585a6800850988678764fcb0bba12eca45fe4d31fdb0"
   }
  }
 },
 "nbformat": 4,
 "nbformat_minor": 2
}
